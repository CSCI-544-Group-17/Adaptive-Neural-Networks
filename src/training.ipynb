{
 "cells": [
  {
   "cell_type": "code",
   "execution_count": 5,
   "outputs": [
    {
     "name": "stdout",
     "output_type": "stream",
     "text": [
      "Current working directory is: /Users/swapnildhanwal/Documents/USC/CSCI 544/Project/repeat/src\n",
      "['embeddings.ipynb', 'training.ipynb', 'model.py', 'utils.py', 'data.ipynb', 'replay.ipynb']\n"
     ]
    }
   ],
   "source": [
    "import os\n",
    "try:\n",
    "    from google.colab import drive\n",
    "    drive.mount('/content/drive')\n",
    "    folder_name = 'CSCI544-Project'\n",
    "    folder_path = f'/content/drive/MyDrive/{folder_name}'\n",
    "    os.chdir(folder_path)\n",
    "    print(\"Current working directory is: \" + os.getcwd())\n",
    "    BASE_EMBEDDINGS_PATH = \"./t5p_small_embeddings/\"\n",
    "except:\n",
    "    BASE_EMBEDDINGS_PATH = \"../t5p_small_embeddings/\"\n",
    "finally:\n",
    "    print(\"Current working directory is: \" + os.getcwd())\n",
    "    print(os.listdir())"
   ],
   "metadata": {
    "collapsed": false,
    "ExecuteTime": {
     "end_time": "2023-10-27T22:36:37.801048Z",
     "start_time": "2023-10-27T22:36:37.797760Z"
    }
   },
   "id": "f13562788b1721fe"
  },
  {
   "cell_type": "code",
   "execution_count": 6,
   "id": "initial_id",
   "metadata": {
    "collapsed": true,
    "ExecuteTime": {
     "end_time": "2023-10-27T22:36:37.806343Z",
     "start_time": "2023-10-27T22:36:37.802283Z"
    }
   },
   "outputs": [],
   "source": [
    "import torch\n",
    "\n",
    "from model import FNNTopology, Model\n",
    "from utils import load_tensors"
   ]
  },
  {
   "cell_type": "code",
   "execution_count": 7,
   "outputs": [],
   "source": [
    "DEVICE = \"cuda\" if torch.cuda.is_available() else \"cpu\""
   ],
   "metadata": {
    "collapsed": false,
    "ExecuteTime": {
     "end_time": "2023-10-27T22:36:37.810476Z",
     "start_time": "2023-10-27T22:36:37.805576Z"
    }
   },
   "id": "dd668745ab2942d1"
  },
  {
   "cell_type": "code",
   "execution_count": 12,
   "outputs": [
    {
     "name": "stdout",
     "output_type": "stream",
     "text": [
      "Initial model training...\n"
     ]
    },
    {
     "data": {
      "text/plain": "  0%|          | 0/100 [00:00<?, ?it/s]",
      "application/vnd.jupyter.widget-view+json": {
       "version_major": 2,
       "version_minor": 0,
       "model_id": "241c5fa8dd2c4b54b1065f2f7752816b"
      }
     },
     "metadata": {},
     "output_type": "display_data"
    },
    {
     "name": "stdout",
     "output_type": "stream",
     "text": [
      "Continual learning iteration 0...\n"
     ]
    },
    {
     "data": {
      "text/plain": "  0%|          | 0/100 [00:00<?, ?it/s]",
      "application/vnd.jupyter.widget-view+json": {
       "version_major": 2,
       "version_minor": 0,
       "model_id": "4e46dfbc75e249f3a947a153ca7a1ff6"
      }
     },
     "metadata": {},
     "output_type": "display_data"
    },
    {
     "name": "stdout",
     "output_type": "stream",
     "text": [
      "(75.31143951416016, 71.83462381362915)\n",
      "Continual learning iteration 1...\n"
     ]
    },
    {
     "data": {
      "text/plain": "  0%|          | 0/100 [00:00<?, ?it/s]",
      "application/vnd.jupyter.widget-view+json": {
       "version_major": 2,
       "version_minor": 0,
       "model_id": "0d5b179bc9264df8a4c7da5fbd710877"
      }
     },
     "metadata": {},
     "output_type": "display_data"
    },
    {
     "name": "stdout",
     "output_type": "stream",
     "text": [
      "(68.85617065429688, 60.545194149017334)\n",
      "Continual learning iteration 2...\n"
     ]
    },
    {
     "data": {
      "text/plain": "  0%|          | 0/100 [00:00<?, ?it/s]",
      "application/vnd.jupyter.widget-view+json": {
       "version_major": 2,
       "version_minor": 0,
       "model_id": "cf4689f1f6cf437eace1f254172a6326"
      }
     },
     "metadata": {},
     "output_type": "display_data"
    },
    {
     "name": "stdout",
     "output_type": "stream",
     "text": [
      "(68.28992462158203, 60.00000238418579)\n",
      "Continual learning iteration 3...\n"
     ]
    },
    {
     "data": {
      "text/plain": "  0%|          | 0/100 [00:00<?, ?it/s]",
      "application/vnd.jupyter.widget-view+json": {
       "version_major": 2,
       "version_minor": 0,
       "model_id": "1928ccd560fc4c8eb0b205c623914019"
      }
     },
     "metadata": {},
     "output_type": "display_data"
    },
    {
     "name": "stdout",
     "output_type": "stream",
     "text": [
      "(70.55492401123047, 65.96858501434326)\n",
      "Continual learning iteration 4...\n"
     ]
    },
    {
     "data": {
      "text/plain": "  0%|          | 0/100 [00:00<?, ?it/s]",
      "application/vnd.jupyter.widget-view+json": {
       "version_major": 2,
       "version_minor": 0,
       "model_id": "9f2b92331795485da0e4b922d8b7aeea"
      }
     },
     "metadata": {},
     "output_type": "display_data"
    },
    {
     "name": "stdout",
     "output_type": "stream",
     "text": [
      "(66.13816833496094, 58.06451439857483)\n",
      "[(75.31143951416016, 71.83462381362915), (68.85617065429688, 60.545194149017334), (68.28992462158203, 60.00000238418579), (70.55492401123047, 65.96858501434326), (66.13816833496094, 58.06451439857483)]\n"
     ]
    }
   ],
   "source": [
    "X_train, y_train = load_tensors(BASE_EMBEDDINGS_PATH + \"train/train.jsonl\")\n",
    "model = Model(FNNTopology(\"FNN with averaged vectors\", X_train.shape[1]), 100, 100)\n",
    "print(\"Initial model training...\")\n",
    "model.train(X_train, y_train)\n",
    "scores = []\n",
    "for i in range(5):\n",
    "    train_file_path = BASE_EMBEDDINGS_PATH + \"train/train_%d.jsonl\" % i\n",
    "    # test_file_path = BASE_EMBEDDINGS_PATH + \"test/test_%d.jsonl\" % i\n",
    "    test_file_path = BASE_EMBEDDINGS_PATH + \"test/test_0.jsonl\"\n",
    "    X_train, y_train = load_tensors(train_file_path)\n",
    "    X_test, y_test = load_tensors(test_file_path)\n",
    "    print(\"Continual learning iteration %d...\" % i)\n",
    "    model.train(X_train, y_train)\n",
    "    score = model.evaluate(X_test, y_test)\n",
    "    scores.append(score)\n",
    "    print(score)\n",
    "print(scores)"
   ],
   "metadata": {
    "collapsed": false,
    "ExecuteTime": {
     "end_time": "2023-10-27T22:39:51.548546Z",
     "start_time": "2023-10-27T22:39:19.550798Z"
    }
   },
   "id": "962cfa2b7b1941ec"
  },
  {
   "cell_type": "code",
   "execution_count": 8,
   "outputs": [],
   "source": [],
   "metadata": {
    "collapsed": false,
    "ExecuteTime": {
     "end_time": "2023-10-27T22:36:46.021610Z",
     "start_time": "2023-10-27T22:36:46.018751Z"
    }
   },
   "id": "eef01194e3b05229"
  }
 ],
 "metadata": {
  "kernelspec": {
   "display_name": "Python 3",
   "language": "python",
   "name": "python3"
  },
  "language_info": {
   "codemirror_mode": {
    "name": "ipython",
    "version": 2
   },
   "file_extension": ".py",
   "mimetype": "text/x-python",
   "name": "python",
   "nbconvert_exporter": "python",
   "pygments_lexer": "ipython2",
   "version": "2.7.6"
  }
 },
 "nbformat": 4,
 "nbformat_minor": 5
}
