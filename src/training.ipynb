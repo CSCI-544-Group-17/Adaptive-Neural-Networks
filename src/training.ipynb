{
 "cells": [
  {
   "cell_type": "code",
   "execution_count": 1,
   "outputs": [
    {
     "name": "stdout",
     "output_type": "stream",
     "text": [
      "Current working directory is: /Users/swapnildhanwal/Documents/USC/CSCI 544/Project/repeat/src\n",
      "['embeddings.ipynb', 'training.ipynb', 'model.py', 'utils.py', 'data.ipynb', 'replay.ipynb']\n"
     ]
    }
   ],
   "source": [
    "import os\n",
    "try:\n",
    "    from google.colab import drive\n",
    "    drive.mount('/content/drive')\n",
    "    folder_name = 'CSCI544-Project'\n",
    "    folder_path = f'/content/drive/MyDrive/{folder_name}'\n",
    "    os.chdir(folder_path)\n",
    "    print(\"Current working directory is: \" + os.getcwd())\n",
    "    BASE_EMBEDDINGS_PATH = \"./t5p_small_embeddings/\"\n",
    "except:\n",
    "    BASE_EMBEDDINGS_PATH = \"../t5p_small_embeddings/\"\n",
    "finally:\n",
    "    print(\"Current working directory is: \" + os.getcwd())\n",
    "    print(os.listdir())"
   ],
   "metadata": {
    "collapsed": false,
    "ExecuteTime": {
     "end_time": "2023-10-28T22:06:57.584468Z",
     "start_time": "2023-10-28T22:06:57.578005Z"
    }
   },
   "id": "f13562788b1721fe"
  },
  {
   "cell_type": "code",
   "execution_count": 2,
   "id": "initial_id",
   "metadata": {
    "collapsed": true,
    "ExecuteTime": {
     "end_time": "2023-10-28T22:07:02.107653Z",
     "start_time": "2023-10-28T22:06:58.060870Z"
    }
   },
   "outputs": [],
   "source": [
    "import torch\n",
    "\n",
    "from model import FNNTopology, Model\n",
    "from utils import load_tensors"
   ]
  },
  {
   "cell_type": "code",
   "execution_count": 3,
   "outputs": [],
   "source": [
    "DEVICE = \"cuda\" if torch.cuda.is_available() else \"cpu\""
   ],
   "metadata": {
    "collapsed": false,
    "ExecuteTime": {
     "end_time": "2023-10-28T22:07:02.110624Z",
     "start_time": "2023-10-28T22:07:02.108601Z"
    }
   },
   "id": "dd668745ab2942d1"
  },
  {
   "cell_type": "code",
   "execution_count": 4,
   "outputs": [
    {
     "name": "stdout",
     "output_type": "stream",
     "text": [
      "Initial model training...\n"
     ]
    },
    {
     "ename": "TypeError",
     "evalue": "train() missing 2 required positional arguments: 'epochs' and 'batch_size'",
     "output_type": "error",
     "traceback": [
      "\u001B[0;31m---------------------------------------------------------------------------\u001B[0m",
      "\u001B[0;31mTypeError\u001B[0m                                 Traceback (most recent call last)",
      "Cell \u001B[0;32mIn[4], line 4\u001B[0m\n\u001B[1;32m      2\u001B[0m model \u001B[38;5;241m=\u001B[39m Model(FNNTopology(\u001B[38;5;124m\"\u001B[39m\u001B[38;5;124mFNN with averaged vectors\u001B[39m\u001B[38;5;124m\"\u001B[39m, X_train\u001B[38;5;241m.\u001B[39mshape[\u001B[38;5;241m1\u001B[39m]))\n\u001B[1;32m      3\u001B[0m \u001B[38;5;28mprint\u001B[39m(\u001B[38;5;124m\"\u001B[39m\u001B[38;5;124mInitial model training...\u001B[39m\u001B[38;5;124m\"\u001B[39m)\n\u001B[0;32m----> 4\u001B[0m \u001B[43mmodel\u001B[49m\u001B[38;5;241;43m.\u001B[39;49m\u001B[43mtrain\u001B[49m\u001B[43m(\u001B[49m\u001B[43mX_train\u001B[49m\u001B[43m,\u001B[49m\u001B[43m \u001B[49m\u001B[43my_train\u001B[49m\u001B[43m)\u001B[49m\n\u001B[1;32m      5\u001B[0m scores \u001B[38;5;241m=\u001B[39m []\n\u001B[1;32m      6\u001B[0m \u001B[38;5;28;01mfor\u001B[39;00m i \u001B[38;5;129;01min\u001B[39;00m \u001B[38;5;28mrange\u001B[39m(\u001B[38;5;241m5\u001B[39m):\n",
      "\u001B[0;31mTypeError\u001B[0m: train() missing 2 required positional arguments: 'epochs' and 'batch_size'"
     ]
    }
   ],
   "source": [
    "X_train, y_train = load_tensors(BASE_EMBEDDINGS_PATH + \"train/train_0.jsonl\")\n",
    "model = Model(FNNTopology(\"FNN with averaged vectors\", X_train.shape[1]))\n",
    "print(\"Initial model training...\")\n",
    "model.train(X_train, y_train)\n",
    "scores = []\n",
    "for i in range(1, 5):\n",
    "    train_file_path = BASE_EMBEDDINGS_PATH + \"train/train_%d.jsonl\" % i\n",
    "    test_file_path = BASE_EMBEDDINGS_PATH + \"train/train_%d.jsonl\" % i\n",
    "    X_train, y_train = load_tensors(train_file_path)\n",
    "    X_test, y_test = load_tensors(test_file_path)\n",
    "    print(\"Continual learning iteration %d...\" % i)\n",
    "    model.train(X_train, y_train, 100, 100)\n",
    "    score = model.evaluate(X_test, y_test)\n",
    "    scores.append(score)\n",
    "    print(score)\n",
    "print(scores)"
   ],
   "metadata": {
    "collapsed": false,
    "ExecuteTime": {
     "end_time": "2023-10-28T22:07:03.517817Z",
     "start_time": "2023-10-28T22:07:02.112079Z"
    }
   },
   "id": "962cfa2b7b1941ec"
  },
  {
   "cell_type": "code",
   "execution_count": 8,
   "outputs": [],
   "source": [],
   "metadata": {
    "collapsed": false,
    "ExecuteTime": {
     "end_time": "2023-10-27T22:36:46.021610Z",
     "start_time": "2023-10-27T22:36:46.018751Z"
    }
   },
   "id": "eef01194e3b05229"
  }
 ],
 "metadata": {
  "kernelspec": {
   "display_name": "Python 3",
   "language": "python",
   "name": "python3"
  },
  "language_info": {
   "codemirror_mode": {
    "name": "ipython",
    "version": 2
   },
   "file_extension": ".py",
   "mimetype": "text/x-python",
   "name": "python",
   "nbconvert_exporter": "python",
   "pygments_lexer": "ipython2",
   "version": "2.7.6"
  }
 },
 "nbformat": 4,
 "nbformat_minor": 5
}
