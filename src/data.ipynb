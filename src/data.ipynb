{
 "cells": [
  {
   "cell_type": "code",
   "execution_count": 1,
   "id": "initial_id",
   "metadata": {
    "collapsed": true,
    "ExecuteTime": {
     "end_time": "2023-10-27T05:53:52.615703Z",
     "start_time": "2023-10-27T05:53:52.611411Z"
    }
   },
   "outputs": [],
   "source": [
    "import os\n",
    "\n",
    "BASE_READ_PATH = None\n",
    "BALANCED_DATA_WRITE_PATH = None\n",
    "\n",
    "try:\n",
    "    from google.colab import drive\n",
    "    drive.mount('/content/drive')\n",
    "    folder_name = 'CSCI544-Project'\n",
    "    folder_path = f'/content/drive/MyDrive/{folder_name}'\n",
    "    os.chdir(folder_path)\n",
    "    print(\"Current working directory is: \" + os.getcwd())\n",
    "    print(os.listdir())\n",
    "    BASE_READ_PATH = \"./defect/\"\n",
    "    BALANCED_DATA_WRITE_PATH = \"./data/\"\n",
    "except:\n",
    "    BASE_READ_PATH = \"../defect/\"\n",
    "    BALANCED_DATA_WRITE_PATH = \"../data/\""
   ]
  },
  {
   "cell_type": "code",
   "execution_count": 2,
   "outputs": [],
   "source": [
    "import json\n",
    "import sys\n",
    "\n",
    "from random import sample"
   ],
   "metadata": {
    "collapsed": false,
    "ExecuteTime": {
     "end_time": "2023-10-27T05:53:52.619362Z",
     "start_time": "2023-10-27T05:53:52.616593Z"
    }
   },
   "id": "bdd4ca11e4d3104f"
  },
  {
   "cell_type": "code",
   "execution_count": 3,
   "outputs": [],
   "source": [
    "KEY_ZEROS = \"zeros\"\n",
    "KEY_ONES = \"ones\""
   ],
   "metadata": {
    "collapsed": false,
    "ExecuteTime": {
     "end_time": "2023-10-27T05:53:52.622082Z",
     "start_time": "2023-10-27T05:53:52.619574Z"
    }
   },
   "id": "db29a9c6be71662b"
  },
  {
   "cell_type": "code",
   "execution_count": 4,
   "outputs": [],
   "source": [
    "def get_balanced_data(_type: str):\n",
    "    for file_name in os.listdir(BASE_READ_PATH):\n",
    "        if _type in file_name:\n",
    "            with open(BASE_READ_PATH + file_name, \"r\") as f_read:\n",
    "                ones = []\n",
    "                zeros = []\n",
    "                for line in f_read.readlines():\n",
    "                    data = json.loads(line)\n",
    "                    if data[\"vul\"] == \"0\":\n",
    "                        zeros.append(data)\n",
    "                    elif data[\"vul\"] == \"1\":\n",
    "                        ones.append(data)\n",
    "                    data.pop(\"lang\")\n",
    "                    data.pop(\"project\")\n",
    "                    data.pop(\"Publish Date\")\n",
    "                size = min(len(ones), len(zeros))\n",
    "                sampled_ones = sample(ones, k=size)\n",
    "                sampled_zeros = sample(zeros, k=size)\n",
    "                sampled = sampled_ones + sampled_zeros\n",
    "\n",
    "                with open(\"%s%s/%s\" % (BALANCED_DATA_WRITE_PATH, _type, file_name), \"w\") as f_write:\n",
    "                    for _sample in sampled:\n",
    "                        f_write.write(json.dumps(_sample) + \"\\n\")\n",
    "                        \n",
    "def get_directory_size() -> int:\n",
    "    return len(os.listdir(BASE_READ_PATH))\n",
    "\n",
    "def main(_type: str):\n",
    "    get_balanced_data(_type)"
   ],
   "metadata": {
    "collapsed": false,
    "ExecuteTime": {
     "end_time": "2023-10-27T05:53:52.626881Z",
     "start_time": "2023-10-27T05:53:52.624902Z"
    }
   },
   "id": "76926ec90217294c"
  },
  {
   "cell_type": "code",
   "execution_count": 5,
   "outputs": [],
   "source": [
    "_type = \"dev\"\n",
    "main(_type)"
   ],
   "metadata": {
    "collapsed": false,
    "ExecuteTime": {
     "end_time": "2023-10-27T05:53:52.961580Z",
     "start_time": "2023-10-27T05:53:52.628243Z"
    }
   },
   "id": "5584f07c42e476ff"
  }
 ],
 "metadata": {
  "kernelspec": {
   "display_name": "Python 3",
   "language": "python",
   "name": "python3"
  },
  "language_info": {
   "codemirror_mode": {
    "name": "ipython",
    "version": 2
   },
   "file_extension": ".py",
   "mimetype": "text/x-python",
   "name": "python",
   "nbconvert_exporter": "python",
   "pygments_lexer": "ipython2",
   "version": "2.7.6"
  }
 },
 "nbformat": 4,
 "nbformat_minor": 5
}
